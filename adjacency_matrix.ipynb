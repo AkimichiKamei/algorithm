{
 "cells": [
  {
   "cell_type": "code",
   "execution_count": 1,
   "metadata": {},
   "outputs": [],
   "source": [
    "import numpy as np"
   ]
  },
  {
   "cell_type": "code",
   "execution_count": 73,
   "metadata": {},
   "outputs": [],
   "source": [
    "# m*nサイズの隣接行列を作成\n",
    "\n",
    "class AdjMatrix:\n",
    "    def __init__(self, V, E):\n",
    "        \"\"\"\n",
    "        V = [1, 2, ..., n]\n",
    "        E = [(i, j), ..., (k, l)], (i, j, k, l \\in V)\n",
    "        \"\"\"    \n",
    "        self.V = V\n",
    "        self.E = E\n",
    "        self.my_matrix = []\n",
    "\n",
    "    def My_matrix(self):\n",
    "        for i in range(len(self.V)):\n",
    "            row_matrix = []\n",
    "            for j in range(len(self.V)):\n",
    "                if (self.V[i], self.V[j]) in self.E:\n",
    "                    row_matrix.append(1)\n",
    "                else:\n",
    "                    row_matrix.append(0)\n",
    "            self.my_matrix.append(row_matrix)\n",
    "\n",
    "        return self.my_matrix\n",
    "\n",
    "    def Addition_edge(self, AE):\n",
    "        \"\"\"\n",
    "        AE = [(o, p)] is added edge\n",
    "        \"\"\"\n",
    "        for h in range(len(NE)):\n",
    "            m = self.V.index(NE[h][0])\n",
    "            n = self.V.index(NE[h][1])\n",
    "            self.my_matrix[m][n] = 1\n",
    "        \n",
    "        return self.my_matrix\n",
    "            \n",
    "    def Removal_edge(self, RE):\n",
    "        \"\"\"\n",
    "        RE = [(o, p)] is removed edge\n",
    "        \"\"\"\n",
    "        for k in range(len(RE)):\n",
    "            m = self.V.index(RE[k][0])\n",
    "            n = self.V.index(RE[k][1])\n",
    "            self.my_matrix[m][n] = 0\n",
    "        \n",
    "        return self.my_matrix"
   ]
  },
  {
   "cell_type": "code",
   "execution_count": 74,
   "metadata": {},
   "outputs": [],
   "source": [
    "test = AdjMatrix([1, 2, 3], [(1, 2), (1, 3)])"
   ]
  },
  {
   "cell_type": "code",
   "execution_count": 76,
   "metadata": {},
   "outputs": [
    {
     "name": "stdout",
     "output_type": "stream",
     "text": [
      "[[0, 1, 1], [0, 0, 0], [0, 0, 0]]\n"
     ]
    }
   ],
   "source": [
    "print(test.My_matrix())"
   ]
  },
  {
   "cell_type": "code",
   "execution_count": 77,
   "metadata": {},
   "outputs": [
    {
     "data": {
      "text/plain": [
       "[[0, 1, 1], [0, 0, 0], [0, 0, 1]]"
      ]
     },
     "execution_count": 77,
     "metadata": {},
     "output_type": "execute_result"
    }
   ],
   "source": [
    "test.Addition_edge([(3, 3)])"
   ]
  },
  {
   "cell_type": "code",
   "execution_count": 78,
   "metadata": {},
   "outputs": [
    {
     "data": {
      "text/plain": [
       "[[0, 0, 1], [0, 0, 0], [0, 0, 1]]"
      ]
     },
     "execution_count": 78,
     "metadata": {},
     "output_type": "execute_result"
    }
   ],
   "source": [
    "test.Removal_edge([(1, 2)])"
   ]
  }
 ],
 "metadata": {
  "kernelspec": {
   "display_name": "Python 3",
   "language": "python",
   "name": "python3"
  },
  "language_info": {
   "codemirror_mode": {
    "name": "ipython",
    "version": 3
   },
   "file_extension": ".py",
   "mimetype": "text/x-python",
   "name": "python",
   "nbconvert_exporter": "python",
   "pygments_lexer": "ipython3",
   "version": "3.7.7"
  }
 },
 "nbformat": 4,
 "nbformat_minor": 4
}
