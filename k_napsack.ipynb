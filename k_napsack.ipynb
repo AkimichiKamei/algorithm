{
 "cells": [
  {
   "cell_type": "code",
   "execution_count": 6,
   "metadata": {},
   "outputs": [],
   "source": [
    "# k_napsack(5,[0,2,3,4,5,6],[0,4,5,8,9,11],10) -> (5, 3)\n",
    "\n",
    "def k_napsack_v0(n, w, v, C):\n",
    "    D = [[0] * (C+1) for i in range(n+1)] # 二次元配列の初期化\n",
    "    T = [[0] * (C+1) for i in range(n+1)] # 二次元配列の初期化\n",
    "\n",
    "    for k in range(1, n+1):\n",
    "        for i in range(1, C+1):\n",
    "            if i < w[k]:\n",
    "                D[k][i] = D[k-1][i]\n",
    "                T[k][i] = 0\n",
    "            else:\n",
    "                if D[k-1][i-w[k]]+v[k] > D[k-1][i]:\n",
    "                    D[k][i] = D[k-1][i-w[k]]+v[k]\n",
    "                    T[k][i]=k\n",
    "                else:\n",
    "                    D[k][i] = D[k-1][i]\n",
    "                    T[k][i] = 0\n",
    "    k = 0\n",
    "    for i in range(1, C+1):\n",
    "        if D[n][i] > D[n][k]:\n",
    "            k = i\n",
    "    for i in reversed(range(1, n+1)):\n",
    "        if T[i][k] > 0:\n",
    "            print(T[i][k])\n",
    "            k = k - w[i]\n",
    "    return"
   ]
  },
  {
   "cell_type": "code",
   "execution_count": 7,
   "metadata": {},
   "outputs": [
    {
     "name": "stdout",
     "output_type": "stream",
     "text": [
      "5\n",
      "3\n"
     ]
    }
   ],
   "source": [
    "k_napsack_v0(5,[0,2,3,4,5,6],[0,4,5,8,9,11],10)"
   ]
  },
  {
   "cell_type": "code",
   "execution_count": 8,
   "metadata": {},
   "outputs": [],
   "source": [
    "def k_napsack_v1(n, w, v, C):\n",
    "    D = [[0] * (C+1) for i in range(n+1)] # 二次元配列の初期化\n",
    "    T = [0] * (C+1)                       # 一次元配列の初期化\n",
    "    \n",
    "    for k in range(1, n+1):\n",
    "        for i in range(1, C+1):\n",
    "            if i < w[k]:\n",
    "                D[k][i] = D[k-1][i]\n",
    "            else:\n",
    "                if D[k-1][i-w[k]]+v[k] > D[k-1][i]:\n",
    "                    D[k][i] = D[k-1][i-w[k]]+v[k]\n",
    "                    T[i] = k\n",
    "                else:\n",
    "                    D[k][i] = D[k-1][i]\n",
    "            \n",
    "    k = 0\n",
    "    for i in range(1, C+1):\n",
    "        if D[n][i] > D[n][k]:\n",
    "            k = i\n",
    "    while T[k] > 0:\n",
    "        print(T[k])\n",
    "        k = k - w[T[k]]\n",
    "    return"
   ]
  },
  {
   "cell_type": "code",
   "execution_count": 9,
   "metadata": {},
   "outputs": [
    {
     "name": "stdout",
     "output_type": "stream",
     "text": [
      "5\n",
      "3\n"
     ]
    }
   ],
   "source": [
    "k_napsack_v1(5,[0,2,3,4,5,6],[0,4,5,8,9,11],10)"
   ]
  }
 ],
 "metadata": {
  "kernelspec": {
   "display_name": "Python 3",
   "language": "python",
   "name": "python3"
  },
  "language_info": {
   "codemirror_mode": {
    "name": "ipython",
    "version": 3
   },
   "file_extension": ".py",
   "mimetype": "text/x-python",
   "name": "python",
   "nbconvert_exporter": "python",
   "pygments_lexer": "ipython3",
   "version": "3.7.7"
  }
 },
 "nbformat": 4,
 "nbformat_minor": 4
}
